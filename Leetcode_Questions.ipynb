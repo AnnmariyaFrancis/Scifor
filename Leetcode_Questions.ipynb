
class solution:
  def prints(self):
    print("ann")
s1=solution()
s1.prints
