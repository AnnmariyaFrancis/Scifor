{
  "nbformat": 4,
  "nbformat_minor": 0,
  "metadata": {
    "colab": {
      "provenance": []
    },
    "kernelspec": {
      "name": "python3",
      "display_name": "Python 3"
    },
    "language_info": {
      "name": "python"
    }
  },
  "cells": [
    {
      "cell_type": "code",
      "source": [
        "class Bank:\n",
        "  def __init__(self):\n",
        "    self.customer_name=input(\"enter the customer name:\")\n",
        "    self.pin=int(input(\"enter the customer pin:\"))\n",
        "    self.bank_balance=int(input(\"enter the initial balance:\"))\n",
        "  def withdraw(self):\n",
        "    self.with_amount=int(input(\"enter the withdraw_amount:\"))\n",
        "  def deposit(self):\n",
        "    self.deposit=int(input(\"ente the deposit amount:\"))\n",
        "    self.bank_balance=self.bank_balance+self.deposit\n",
        "  def show_balance(self):\n",
        "    if self.with_amount>self.bank_balance:\n",
        "      print(\"insufficient balance\")\n",
        "    else:\n",
        "      self.bank_balance=self.bank_balance-self.with_amount\n",
        "    print(\"*\"*10)\n",
        "    print(\"Customer pin: \",self.pin)\n",
        "    print(\"Customer name:\",self.customer_name)\n",
        "    print(\"Balance amount:\",self.bank_balance)\n",
        "b1=Bank()\n",
        "b1.withdraw()\n",
        "b1.deposit()\n",
        "b1.show_balance()\n"
      ],
      "metadata": {
        "colab": {
          "base_uri": "https://localhost:8080/",
          "height": 0
        },
        "id": "dcTLfnY-SjHJ",
        "outputId": "90a71dc0-691e-4a37-afe9-9572e8121732"
      },
      "execution_count": 8,
      "outputs": [
        {
          "output_type": "stream",
          "name": "stdout",
          "text": [
            "enter the customer name:Ann\n",
            "enter the customer pin:21\n",
            "enter the initial balance:1000\n",
            "enter the withdraw_amount:200\n",
            "ente the deposit amount:200\n",
            "**********\n",
            "Customer pin:  21\n",
            "Customer name: Ann\n",
            "Balance amount: 1000\n"
          ]
        }
      ]
    }
  ]
}