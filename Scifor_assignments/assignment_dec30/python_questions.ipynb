{
  "nbformat": 4,
  "nbformat_minor": 0,
  "metadata": {
    "colab": {
      "provenance": []
    },
    "kernelspec": {
      "name": "python3",
      "display_name": "Python 3"
    },
    "language_info": {
      "name": "python"
    }
  },
  "cells": [
    {
      "cell_type": "code",
      "execution_count": 5,
      "metadata": {
        "colab": {
          "base_uri": "https://localhost:8080/"
        },
        "id": "wPVRz8b5Jw0A",
        "outputId": "e719faef-9897-4f8b-a2a8-2d3e9d69a843"
      },
      "outputs": [
        {
          "output_type": "stream",
          "name": "stdout",
          "text": [
            "name ann\n",
            "roll 4\n",
            "*****\n",
            "name madhav\n",
            "roll 2\n",
            "*****\n",
            "2 3 5 5 "
          ]
        }
      ],
      "source": [
        "#1)Write a program in python which contains default arguments, keyword arguments, variable length arguments\n",
        "#keyword argument\n",
        "def students(roll,name):\n",
        "  print(\"name\",name)\n",
        "  print(\"roll\",roll)\n",
        "students(4,name=\"ann\")\n",
        "print(\"*\"*5)\n",
        "#Default argument\n",
        "def students(name,roll=2):\n",
        "   print(\"name\",name)\n",
        "   print(\"roll\",roll)\n",
        "students(\"madhav\")\n",
        "print(\"*\"*5)\n",
        "#variable length argument\n",
        "def var(*args):\n",
        "  for i in args:\n",
        "    print(i,end=\" \")\n",
        "var(2,3,5,5)"
      ]
    },
    {
      "cell_type": "markdown",
      "source": [
        "2)What is Lambda function in python? And how it is different from other function? Explain by the help of code\n",
        "\n",
        "Lambda is an anonymous function\n",
        "we can pass any number of arguments\n",
        "lambda can have only one expression\n",
        "It uses lambda keyword\n",
        " It can be executed in a single line"
      ],
      "metadata": {
        "id": "JCCK02cEODJ6"
      }
    },
    {
      "cell_type": "code",
      "source": [
        "a=lambda a,b:a+b\n",
        "a(4,5)"
      ],
      "metadata": {
        "colab": {
          "base_uri": "https://localhost:8080/"
        },
        "id": "3SAq7r4mOOLY",
        "outputId": "e9c4917b-ae4b-4edd-992d-9ce1872cc33d"
      },
      "execution_count": 6,
      "outputs": [
        {
          "output_type": "execute_result",
          "data": {
            "text/plain": [
              "9"
            ]
          },
          "metadata": {},
          "execution_count": 6
        }
      ]
    },
    {
      "cell_type": "markdown",
      "source": [
        "3)What is the difference between shallow copy and deep copy?\n",
        "\n",
        "shallow copy shows changes made to the copied object in the original object\n",
        "Whereas deep copy doesn't allow to changes made to the copied object reflects in the original object\n",
        "In deep copy it creates copies of each of it's nested objects"
      ],
      "metadata": {
        "id": "XlYOruQuN3bs"
      }
    },
    {
      "cell_type": "code",
      "source": [],
      "metadata": {
        "id": "H1qow0IELiXk"
      },
      "execution_count": null,
      "outputs": []
    },
    {
      "cell_type": "code",
      "source": [],
      "metadata": {
        "id": "oum5E-T3MTgq"
      },
      "execution_count": null,
      "outputs": []
    }
  ]
}
